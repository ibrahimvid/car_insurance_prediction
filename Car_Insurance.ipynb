{
 "cells": [
  {
   "cell_type": "markdown",
   "metadata": {
    "id": "U4hTziUyJfJ1"
   },
   "source": [
    "# Car Insurance Prediction\n",
    "\n",
    "## Problem Statement\n",
    "\n",
    "Imagine you are a data scientist at a bank in your city. Your bank besides usual services also provides car insurance services. The bank has potential customers data and bank employees call them for advertising available car insurance options.\n",
    "\n",
    "You are provided with general information about clients (age,job,etc.) as well as more specific information about the current insurance sell campaign (communication,last contact day) and previous campaign (attributes like previous attempts,outcome etc).\n",
    "\n",
    "You have data about 3100 customers who were contacted during the last campaign and for whom the results of the campaign (if the customer bought insurance or not) are known.\n",
    "\n",
    "## Objective\n",
    "\n",
    "You are provided 935 customers data who were contacted during the current campaign. You are required to build a machine learning model to predict if these customers will buy the car insurance or not\n",
    "\n",
    "## Evaluation Criteria\n",
    "\n",
    "Submissions are evaluated using 100 * Accuracy Score."
   ]
  },
  {
   "cell_type": "markdown",
   "metadata": {
    "id": "FQNVBNg5Jfx0"
   },
   "source": [
    "## About the Data\n",
    "There are 19 variables (including the target variable) in the train dataset. Below are some of the listed variables and their description:\n",
    "\n",
    "**age**: age of the customer\n",
    "\n",
    "**job_type**: what job does customer do\n",
    "\n",
    "**marital_status**: if the customer is married or not\n",
    "\n",
    "**education_level**: education level of the customer\n",
    "\n",
    "**default_or_not**: if the customer was able to repay in time or not\n",
    "\n",
    "**balance_amt**: balance amount of the customer in the bank\n",
    "\n",
    "**household_insurance**: if the customer has bought household insurance or not\n",
    "\n",
    "**car_loan**: if the customer has car loan\n",
    "\n",
    "**communication**: mode of communication\n",
    "\n",
    "**last_contact_day**: when the customer was last contacted (day)\n",
    "\n",
    "**last_contact_month**: when the customer was last contacted (month)\n",
    "\n",
    "**no_of_contacts**: How many times was the customer contacted\n",
    "\n",
    "**days_passed**: days passed since the last contact (-1 means the data is missing)\n",
    "\n",
    "**prev_attempt**s: how many times was the customer previously contacted \n",
    "\n",
    "**outcome**: what was the outcome of the last contact\n",
    "\n",
    "**call_start**: call start time\n",
    "\n",
    "**call_end**: call end time\n",
    "\n",
    "**car_insurance**: if the customer bought car insurance (the target variable, 1 - boutght, 0 - not bought)"
   ]
  },
  {
   "cell_type": "code",
   "execution_count": null,
   "metadata": {
    "id": "cQMdeCjaJceZ"
   },
   "outputs": [],
   "source": [
    "import pandas as pd\n",
    "import numpy as np\n",
    "import matplotlib.pyplot as plt\n",
    "import seaborn as sns"
   ]
  },
  {
   "cell_type": "code",
   "execution_count": null,
   "metadata": {
    "id": "iWEFYmUXKPsX"
   },
   "outputs": [],
   "source": [
    "train = pd.read_csv(\"/content/Train_data.csv\", parse_dates=['last_contact_day', 'last_contact_month', 'call_start', 'call_end'])\n",
    "test = pd.read_csv(\"/content/Test_data.csv\", parse_dates=['last_contact_day', 'last_contact_month', 'call_start', 'call_end'])"
   ]
  },
  {
   "cell_type": "code",
   "execution_count": null,
   "metadata": {
    "colab": {
     "base_uri": "https://localhost:8080/",
     "height": 394
    },
    "id": "qnybxUf3Ko7h",
    "outputId": "4f344fee-2259-49f6-ff15-cdb170b994ab"
   },
   "outputs": [
    {
     "data": {
      "text/html": [
       "<div>\n",
       "<style scoped>\n",
       "    .dataframe tbody tr th:only-of-type {\n",
       "        vertical-align: middle;\n",
       "    }\n",
       "\n",
       "    .dataframe tbody tr th {\n",
       "        vertical-align: top;\n",
       "    }\n",
       "\n",
       "    .dataframe thead th {\n",
       "        text-align: right;\n",
       "    }\n",
       "</style>\n",
       "<table border=\"1\" class=\"dataframe\">\n",
       "  <thead>\n",
       "    <tr style=\"text-align: right;\">\n",
       "      <th></th>\n",
       "      <th>age</th>\n",
       "      <th>job_type</th>\n",
       "      <th>marital_status</th>\n",
       "      <th>education_level</th>\n",
       "      <th>default_or_not</th>\n",
       "      <th>balance_amt</th>\n",
       "      <th>household_insurance</th>\n",
       "      <th>car_loan</th>\n",
       "      <th>communication</th>\n",
       "      <th>last_contact_day</th>\n",
       "      <th>last_contact_month</th>\n",
       "      <th>no_of_contacts</th>\n",
       "      <th>days_passed</th>\n",
       "      <th>prev_attempts</th>\n",
       "      <th>Outcome</th>\n",
       "      <th>call_start</th>\n",
       "      <th>call_end</th>\n",
       "      <th>car_insurance</th>\n",
       "    </tr>\n",
       "  </thead>\n",
       "  <tbody>\n",
       "    <tr>\n",
       "      <th>0</th>\n",
       "      <td>47.000000</td>\n",
       "      <td>blue-collar</td>\n",
       "      <td>married</td>\n",
       "      <td>primary</td>\n",
       "      <td>0</td>\n",
       "      <td>1112.000000</td>\n",
       "      <td>1</td>\n",
       "      <td>0</td>\n",
       "      <td>cellular</td>\n",
       "      <td>13</td>\n",
       "      <td>may</td>\n",
       "      <td>1</td>\n",
       "      <td>-1</td>\n",
       "      <td>0</td>\n",
       "      <td>NaN</td>\n",
       "      <td>2021-04-15 10:22:20</td>\n",
       "      <td>2021-04-15 10:24:29</td>\n",
       "      <td>0</td>\n",
       "    </tr>\n",
       "    <tr>\n",
       "      <th>1</th>\n",
       "      <td>46.031442</td>\n",
       "      <td>management</td>\n",
       "      <td>married</td>\n",
       "      <td>tertiary</td>\n",
       "      <td>0</td>\n",
       "      <td>1.312372</td>\n",
       "      <td>0</td>\n",
       "      <td>1</td>\n",
       "      <td>cellular</td>\n",
       "      <td>15</td>\n",
       "      <td>may</td>\n",
       "      <td>3</td>\n",
       "      <td>219</td>\n",
       "      <td>1</td>\n",
       "      <td>other</td>\n",
       "      <td>2021-04-15 09:06:30</td>\n",
       "      <td>2021-04-15 13:59:48</td>\n",
       "      <td>1</td>\n",
       "    </tr>\n",
       "    <tr>\n",
       "      <th>2</th>\n",
       "      <td>36.000000</td>\n",
       "      <td>services</td>\n",
       "      <td>single</td>\n",
       "      <td>NaN</td>\n",
       "      <td>0</td>\n",
       "      <td>281.000000</td>\n",
       "      <td>1</td>\n",
       "      <td>0</td>\n",
       "      <td>NaN</td>\n",
       "      <td>16</td>\n",
       "      <td>may</td>\n",
       "      <td>1</td>\n",
       "      <td>-1</td>\n",
       "      <td>0</td>\n",
       "      <td>NaN</td>\n",
       "      <td>2021-04-15 13:18:41</td>\n",
       "      <td>2021-04-15 13:27:16</td>\n",
       "      <td>1</td>\n",
       "    </tr>\n",
       "    <tr>\n",
       "      <th>3</th>\n",
       "      <td>32.000000</td>\n",
       "      <td>technician</td>\n",
       "      <td>single</td>\n",
       "      <td>secondary</td>\n",
       "      <td>0</td>\n",
       "      <td>540.000000</td>\n",
       "      <td>0</td>\n",
       "      <td>1</td>\n",
       "      <td>cellular</td>\n",
       "      <td>29</td>\n",
       "      <td>jan</td>\n",
       "      <td>1</td>\n",
       "      <td>-1</td>\n",
       "      <td>0</td>\n",
       "      <td>NaN</td>\n",
       "      <td>2021-04-15 10:09:18</td>\n",
       "      <td>2021-04-15 10:21:48</td>\n",
       "      <td>1</td>\n",
       "    </tr>\n",
       "    <tr>\n",
       "      <th>4</th>\n",
       "      <td>30.000000</td>\n",
       "      <td>admin.</td>\n",
       "      <td>single</td>\n",
       "      <td>secondary</td>\n",
       "      <td>0</td>\n",
       "      <td>315.000000</td>\n",
       "      <td>1</td>\n",
       "      <td>0</td>\n",
       "      <td>cellular</td>\n",
       "      <td>14</td>\n",
       "      <td>may</td>\n",
       "      <td>3</td>\n",
       "      <td>346</td>\n",
       "      <td>4</td>\n",
       "      <td>failure</td>\n",
       "      <td>2021-04-15 12:12:30</td>\n",
       "      <td>2021-04-15 12:27:14</td>\n",
       "      <td>1</td>\n",
       "    </tr>\n",
       "  </tbody>\n",
       "</table>\n",
       "</div>"
      ],
      "text/plain": [
       "         age     job_type  ...            call_end car_insurance\n",
       "0  47.000000  blue-collar  ... 2021-04-15 10:24:29             0\n",
       "1  46.031442   management  ... 2021-04-15 13:59:48             1\n",
       "2  36.000000     services  ... 2021-04-15 13:27:16             1\n",
       "3  32.000000   technician  ... 2021-04-15 10:21:48             1\n",
       "4  30.000000       admin.  ... 2021-04-15 12:27:14             1\n",
       "\n",
       "[5 rows x 18 columns]"
      ]
     },
     "execution_count": 3,
     "metadata": {
      "tags": []
     },
     "output_type": "execute_result"
    }
   ],
   "source": [
    "train.head()"
   ]
  },
  {
   "cell_type": "code",
   "execution_count": null,
   "metadata": {
    "colab": {
     "base_uri": "https://localhost:8080/"
    },
    "id": "zMcxngDJKst9",
    "outputId": "2972907f-e55c-42a3-e938-968dbf074df8"
   },
   "outputs": [
    {
     "data": {
      "text/plain": [
       "((3102, 18), (935, 17))"
      ]
     },
     "execution_count": 4,
     "metadata": {
      "tags": []
     },
     "output_type": "execute_result"
    }
   ],
   "source": [
    "train.shape, test.shape"
   ]
  },
  {
   "cell_type": "code",
   "execution_count": null,
   "metadata": {
    "colab": {
     "base_uri": "https://localhost:8080/"
    },
    "id": "FGcY8uSzKxEQ",
    "outputId": "77c5fc7a-bc02-42e2-f13f-6ed33d4214d9"
   },
   "outputs": [
    {
     "name": "stdout",
     "output_type": "stream",
     "text": [
      "<class 'pandas.core.frame.DataFrame'>\n",
      "RangeIndex: 3102 entries, 0 to 3101\n",
      "Data columns (total 18 columns):\n",
      " #   Column               Non-Null Count  Dtype         \n",
      "---  ------               --------------  -----         \n",
      " 0   age                  3102 non-null   float64       \n",
      " 1   job_type             3091 non-null   object        \n",
      " 2   marital_status       3102 non-null   object        \n",
      " 3   education_level      2989 non-null   object        \n",
      " 4   default_or_not       3102 non-null   int64         \n",
      " 5   balance_amt          3102 non-null   float64       \n",
      " 6   household_insurance  3102 non-null   int64         \n",
      " 7   car_loan             3102 non-null   int64         \n",
      " 8   communication        2559 non-null   object        \n",
      " 9   last_contact_day     3102 non-null   object        \n",
      " 10  last_contact_month   3102 non-null   object        \n",
      " 11  no_of_contacts       3102 non-null   int64         \n",
      " 12  days_passed          3102 non-null   int64         \n",
      " 13  prev_attempts        3102 non-null   int64         \n",
      " 14  Outcome              751 non-null    object        \n",
      " 15  call_start           3102 non-null   datetime64[ns]\n",
      " 16  call_end             3102 non-null   datetime64[ns]\n",
      " 17  car_insurance        3102 non-null   int64         \n",
      "dtypes: datetime64[ns](2), float64(2), int64(7), object(7)\n",
      "memory usage: 436.3+ KB\n"
     ]
    }
   ],
   "source": [
    "train.info()"
   ]
  },
  {
   "cell_type": "code",
   "execution_count": null,
   "metadata": {
    "colab": {
     "base_uri": "https://localhost:8080/"
    },
    "id": "eycG-YVXKsrb",
    "outputId": "bbb96661-7e88-46e5-b9dc-52facb2ffbc7"
   },
   "outputs": [
    {
     "data": {
      "text/plain": [
       "age                       0\n",
       "job_type                 11\n",
       "marital_status            0\n",
       "education_level         113\n",
       "default_or_not            0\n",
       "balance_amt               0\n",
       "household_insurance       0\n",
       "car_loan                  0\n",
       "communication           543\n",
       "last_contact_day          0\n",
       "last_contact_month        0\n",
       "no_of_contacts            0\n",
       "days_passed               0\n",
       "prev_attempts             0\n",
       "Outcome                2351\n",
       "call_start                0\n",
       "call_end                  0\n",
       "car_insurance             0\n",
       "dtype: int64"
      ]
     },
     "execution_count": 6,
     "metadata": {
      "tags": []
     },
     "output_type": "execute_result"
    }
   ],
   "source": [
    "train.isnull().sum()"
   ]
  },
  {
   "cell_type": "code",
   "execution_count": null,
   "metadata": {
    "colab": {
     "base_uri": "https://localhost:8080/",
     "height": 404
    },
    "id": "PKbq3MoUK2WN",
    "outputId": "17e79f71-2461-48c9-8287-d701cbc87f6f"
   },
   "outputs": [
    {
     "data": {
      "image/png": "[encoded data removed]",
      "text/plain": [
       "<Figure size 720x432 with 1 Axes>"
      ]
     },
     "metadata": {
      "needs_background": "light",
      "tags": []
     },
     "output_type": "display_data"
    }
   ],
   "source": [
    "plt.figure(figsize=(10,6))\n",
    "\n",
    "# Positve examples\n",
    "plt.scatter(train.age[train.car_insurance==1], \n",
    "            train.balance_amt[train.car_insurance==1], \n",
    "            c=\"salmon\") \n",
    "# Negative examples\n",
    "plt.scatter(train.age[train.car_insurance==0], \n",
    "            train.balance_amt[train.car_insurance==0], \n",
    "            c=\"lightblue\") \n",
    "\n",
    "plt.title(\"Car Insurance based on Age and Bank Balance Amount\")\n",
    "plt.xlabel(\"Age\")\n",
    "plt.legend([\"Has Car Insurance\", \"No Car Insurance\"])\n",
    "plt.ylabel(\"Bank Balance Amount\");"
   ]
  },
  {
   "cell_type": "code",
   "execution_count": null,
   "metadata": {
    "colab": {
     "base_uri": "https://localhost:8080/",
     "height": 404
    },
    "id": "OI3B9tQYK4LT",
    "outputId": "94d2d2df-2f41-47ee-cd7f-49ad5a1325e6"
   },
   "outputs": [
    {
     "data": {
      "image/png": "[encoded data removed]",
      "text/plain": [
       "<Figure size 720x432 with 1 Axes>"
      ]
     },
     "metadata": {
      "needs_background": "light",
      "tags": []
     },
     "output_type": "display_data"
    }
   ],
   "source": [
    "pd.crosstab(train.car_loan, train.car_insurance).plot(kind=\"bar\", figsize=(10,6), color=[\"salmon\", \"lightblue\"])\n",
    "\n",
    "plt.title(\"Car insurance based on the car loan\")\n",
    "plt.xlabel(\"0 = No Car Loan, 1 = Car Loan\")\n",
    "plt.ylabel(\"Amount\")\n",
    "plt.legend([\"No Car Insurance\", \"Car Insurance\"])\n",
    "plt.xticks(rotation=0);"
   ]
  },
  {
   "cell_type": "code",
   "execution_count": null,
   "metadata": {
    "id": "VoKIjBvYKY7u"
   },
   "outputs": [],
   "source": [
    "def process_df(df):\n",
    "    # Drop Outcome and Communication since there are many missing values\n",
    "    df.drop(['Outcome', 'communication'], axis=1, inplace=True)\n",
    "\n",
    "    # Fill the missing values of job_type as unemployed.\n",
    "    df['job_type'].fillna('unemployed', inplace=True)\n",
    "\n",
    "    # Get dummies for job_type\n",
    "    df = pd.get_dummies(df, columns=['job_type'], prefix='job_')\n",
    "\n",
    "    # Fill the missing value of education_level with the most frequent 'secondary'\n",
    "    df['education_level'].fillna('secondary', inplace=True)\n",
    "\n",
    "    # Getting dummies for the education_level & marital_status\n",
    "    df = pd.get_dummies(df, columns=['education_level'], prefix='edu_level_')\n",
    "    df = pd.get_dummies(df, columns=['marital_status'], prefix='marital_')\n",
    "\n",
    "    # Handling the call durations and converting them to only show minutes of total contact time.\n",
    "    df['duration'] = df['call_end'] - df['call_start']\n",
    "    df['duration'] = df['duration'].dt.total_seconds()/60.0\n",
    "    df['last_contact_month'] = df['last_contact_month'].replace({'jan': 1, 'feb': 2, 'mar': 3, 'apr': 4, 'may': 5, 'jun': 6, 'jul': 7, 'aug': 8, 'sep': 9, 'oct': 10, 'nov': 11, 'dec': 12})\n",
    "    \n",
    "    # Dropping the handled columns\n",
    "    df.drop(['call_start', 'call_end', 'last_contact_day', 'last_contact_month'], axis=1, inplace=True)\n",
    "    \n",
    "    # Convert age from float to int\n",
    "    df['age'] = df['age'].astype(int)\n",
    "    return df"
   ]
  },
  {
   "cell_type": "code",
   "execution_count": null,
   "metadata": {
    "id": "AoWDH71BLpJ0"
   },
   "outputs": [],
   "source": [
    "train = process_df(train)\n",
    "test = process_df(test)"
   ]
  },
  {
   "cell_type": "markdown",
   "metadata": {
    "id": "4J2FICrvLm-J"
   },
   "source": [
    "## Modeling\n"
   ]
  },
  {
   "cell_type": "code",
   "execution_count": null,
   "metadata": {
    "id": "_yr-52UbLllu"
   },
   "outputs": [],
   "source": [
    "## Models\n",
    "from sklearn.linear_model import LogisticRegression\n",
    "from sklearn.neighbors import KNeighborsClassifier\n",
    "from sklearn.naive_bayes import GaussianNB\n",
    "from sklearn.tree import DecisionTreeClassifier\n",
    "from sklearn.ensemble import RandomForestClassifier\n",
    "from sklearn.preprocessing import StandardScaler\n",
    "from sklearn.svm import SVC\n",
    "from sklearn.ensemble import GradientBoostingClassifier\n",
    "from sklearn.ensemble import ExtraTreesClassifier\n",
    "from sklearn.ensemble import AdaBoostClassifier\n",
    "from xgboost import XGBClassifier\n",
    "from xgboost import plot_tree\n",
    "from sklearn.model_selection import RepeatedStratifiedKFold\n",
    "\n",
    "## Model evaluators\n",
    "from sklearn.model_selection import train_test_split, cross_val_score\n",
    "from sklearn.model_selection import RandomizedSearchCV, GridSearchCV\n",
    "from sklearn.metrics import confusion_matrix, classification_report\n",
    "from sklearn.metrics import precision_score, recall_score, f1_score, accuracy_score\n",
    "from sklearn.metrics import plot_roc_curve"
   ]
  },
  {
   "cell_type": "code",
   "execution_count": null,
   "metadata": {
    "id": "dmAcqLubL0AX"
   },
   "outputs": [],
   "source": [
    "X = train.drop('car_insurance', axis=1)\n",
    "y = train['car_insurance'].values"
   ]
  },
  {
   "cell_type": "code",
   "execution_count": null,
   "metadata": {
    "id": "Nhop0AxsLz-V"
   },
   "outputs": [],
   "source": [
    "X_train, X_test, y_train, y_test = train_test_split(X, y, test_size=0.2, random_state=42)"
   ]
  },
  {
   "cell_type": "code",
   "execution_count": null,
   "metadata": {
    "colab": {
     "base_uri": "https://localhost:8080/"
    },
    "id": "WxfWADK2Lz8T",
    "outputId": "075cac85-6a40-46d4-b36c-e1db89d72f15"
   },
   "outputs": [
    {
     "data": {
      "text/plain": [
       "((2481, 26), (621, 26), (2481,), (621,))"
      ]
     },
     "execution_count": 14,
     "metadata": {
      "tags": []
     },
     "output_type": "execute_result"
    }
   ],
   "source": [
    "X_train.shape, X_test.shape, y_train.shape, y_test.shape"
   ]
  },
  {
   "cell_type": "code",
   "execution_count": null,
   "metadata": {
    "id": "c6dhWQ8gMTav"
   },
   "outputs": [],
   "source": [
    "# from sklearn.preprocessing import StandardScaler\n",
    "# sc = StandardScaler()\n",
    "# X_train = sc.fit_transform(X_train)\n",
    "# X_test = sc.transform(X_test)"
   ]
  },
  {
   "cell_type": "code",
   "execution_count": null,
   "metadata": {
    "id": "GOtsflPKLz6U"
   },
   "outputs": [],
   "source": [
    "# Put models in a dictionary\n",
    "models = {\"KNN\": KNeighborsClassifier(),\n",
    "          \"Logistic Regression\": LogisticRegression(), \n",
    "          \"Random Forest\": RandomForestClassifier(criterion='entropy'),\n",
    "          \"Decision Tree\": DecisionTreeClassifier(criterion='entropy'),\n",
    "          \"Extra Trees Classifier\": ExtraTreesClassifier(criterion='entropy'),\n",
    "          \"SVM\": SVC(kernel='linear'),\n",
    "          \"Kernel SVM\": SVC(kernel='rbf'),\n",
    "          \"XGBoost\": XGBClassifier(),\n",
    "          \"Gaussian Naive Bayes\": GaussianNB()}\n",
    "\n",
    "# Create function to fit and score models\n",
    "def fit_and_score(models, X_train, X_test, y_train, y_test):\n",
    "    # Random seed for reproducible results\n",
    "    np.random.seed(42)\n",
    "    # Make a list to keep model scores\n",
    "    model_scores = {}\n",
    "    # Loop through models\n",
    "    for name, model in models.items():\n",
    "        # Fit the model to the data\n",
    "        model.fit(X_train, y_train)\n",
    "        # Predict the test data\n",
    "        y_pred = model.predict(X_test)\n",
    "        # Evaluate the model and append its score to model_scores\n",
    "        model_scores[name] = accuracy_score(y_test, y_pred)\n",
    "    return model_scores"
   ]
  },
  {
   "cell_type": "code",
   "execution_count": null,
   "metadata": {
    "colab": {
     "base_uri": "https://localhost:8080/"
    },
    "id": "yKWHc8r5Lz4Q",
    "outputId": "676b2f1b-ef6c-4bb3-f24a-a2a6dbe2f0af"
   },
   "outputs": [
    {
     "name": "stderr",
     "output_type": "stream",
     "text": [
      "/usr/local/lib/python3.7/dist-packages/sklearn/linear_model/_logistic.py:940: ConvergenceWarning: lbfgs failed to converge (status=1):\n",
      "STOP: TOTAL NO. of ITERATIONS REACHED LIMIT.\n",
      "\n",
      "Increase the number of iterations (max_iter) or scale the data as shown in:\n",
      "    https://scikit-learn.org/stable/modules/preprocessing.html\n",
      "Please also refer to the documentation for alternative solver options:\n",
      "    https://scikit-learn.org/stable/modules/linear_model.html#logistic-regression\n",
      "  extra_warning_msg=_LOGISTIC_SOLVER_CONVERGENCE_MSG)\n"
     ]
    }
   ],
   "source": [
    "model_scores = fit_and_score(models=models,\n",
    "                             X_train=X_train,\n",
    "                             X_test=X_test,\n",
    "                             y_train=y_train,\n",
    "                             y_test=y_test)\n",
    "model_scores"
   ]
  },
  {
   "cell_type": "markdown",
   "metadata": {
    "id": "4XBjFKeeXLEg"
   },
   "source": [
    "### Decision Tree Classifier"
   ]
  },
  {
   "cell_type": "code",
   "execution_count": null,
   "metadata": {
    "colab": {
     "base_uri": "https://localhost:8080/"
    },
    "id": "RRVXljx-PJqS",
    "outputId": "c75dadd3-f91b-4118-f294-d07cfddf9da9"
   },
   "outputs": [
    {
     "data": {
      "text/plain": [
       "0.8191558880058178"
      ]
     },
     "execution_count": 17,
     "metadata": {
      "tags": []
     },
     "output_type": "execute_result"
    }
   ],
   "source": [
    "dt_clf = DecisionTreeClassifier(max_depth=None, min_samples_split=2,\n",
    "    random_state=0)\n",
    "scores = cross_val_score(dt_clf, X, y, cv=5)\n",
    "scores.mean()"
   ]
  },
  {
   "cell_type": "code",
   "execution_count": null,
   "metadata": {
    "colab": {
     "base_uri": "https://localhost:8080/"
    },
    "id": "6nN4U--HYE1V",
    "outputId": "f77a00f1-4054-4e56-8919-c190aacd6e8e"
   },
   "outputs": [
    {
     "name": "stdout",
     "output_type": "stream",
     "text": [
      "Fitting 30 folds for each of 20 candidates, totalling 600 fits\n"
     ]
    },
    {
     "name": "stderr",
     "output_type": "stream",
     "text": [
      "[Parallel(n_jobs=1)]: Using backend SequentialBackend with 1 concurrent workers.\n",
      "[Parallel(n_jobs=1)]: Done 600 out of 600 | elapsed:    5.5s finished\n",
      "[Parallel(n_jobs=1)]: Using backend SequentialBackend with 1 concurrent workers.\n"
     ]
    },
    {
     "name": "stdout",
     "output_type": "stream",
     "text": [
      "Fitting 30 folds for each of 20 candidates, totalling 600 fits\n"
     ]
    },
    {
     "name": "stderr",
     "output_type": "stream",
     "text": [
      "[Parallel(n_jobs=1)]: Done 600 out of 600 | elapsed:    4.3s finished\n"
     ]
    }
   ],
   "source": [
    "df_grid = {\"max_depth\": [None, 3, 5, 10],\n",
    "           \"min_samples_split\": np.arange(2, 20, 2),\n",
    "           \"min_samples_leaf\": np.arange(1, 20, 2)}\n",
    "\n",
    "cv = RepeatedStratifiedKFold(n_splits=10, n_repeats=3, random_state=42)\n",
    "\n",
    "rs_df = RandomizedSearchCV(DecisionTreeClassifier(),\n",
    "                           param_distributions=df_grid,\n",
    "                           cv=cv,\n",
    "                           n_iter=20,\n",
    "                           verbose=True)\n",
    "\n",
    "rs_df.fit(X_train, y_train)\n",
    "random_result = rs_df.fit(X_train, y_train)\n"
   ]
  },
  {
   "cell_type": "code",
   "execution_count": null,
   "metadata": {
    "colab": {
     "base_uri": "https://localhost:8080/"
    },
    "id": "KOQO8UnuZ7j8",
    "outputId": "a1c19f67-3bfe-45ed-92d5-d34620756f83"
   },
   "outputs": [
    {
     "data": {
      "text/plain": [
       "0.8276972624798712"
      ]
     },
     "execution_count": 19,
     "metadata": {
      "tags": []
     },
     "output_type": "execute_result"
    }
   ],
   "source": [
    "rs_df.score(X_test, y_test)"
   ]
  },
  {
   "cell_type": "code",
   "execution_count": null,
   "metadata": {
    "colab": {
     "base_uri": "https://localhost:8080/"
    },
    "id": "qwSVjg4EiHwt",
    "outputId": "d7b80991-f861-45eb-c262-b427566df374"
   },
   "outputs": [
    {
     "name": "stdout",
     "output_type": "stream",
     "text": [
      "Best: 0.821582 using {'min_samples_split': 8, 'min_samples_leaf': 19, 'max_depth': 10}\n"
     ]
    }
   ],
   "source": [
    "print(\"Best: %f using %s\" % (random_result.best_score_, random_result.best_params_))"
   ]
  },
  {
   "cell_type": "code",
   "execution_count": null,
   "metadata": {
    "colab": {
     "base_uri": "https://localhost:8080/"
    },
    "id": "4kLahobetZm3",
    "outputId": "4ef0cf35-7d46-4720-de69-f45f5e21b346"
   },
   "outputs": [
    {
     "name": "stdout",
     "output_type": "stream",
     "text": [
      "Test set accuracy score: 0.828\n"
     ]
    }
   ],
   "source": [
    "# Predict the test set\n",
    "y_pred = rs_df.predict(X_test)\n",
    "\n",
    "# Compute accuracy score\n",
    "accuracy = accuracy_score(y_test, y_pred)\n",
    "\n",
    "# Print accuracy score\n",
    "print('Test set accuracy score: {:.3f}'.format(accuracy))"
   ]
  },
  {
   "cell_type": "markdown",
   "metadata": {
    "id": "wvUAzhg-Qj0s"
   },
   "source": [
    "### AdaBoost Classifier"
   ]
  },
  {
   "cell_type": "code",
   "execution_count": null,
   "metadata": {
    "colab": {
     "base_uri": "https://localhost:8080/"
    },
    "id": "kwYHiCGxOXAq",
    "outputId": "2d9d8ebb-24d4-42d7-91b0-6e9b28be78e4"
   },
   "outputs": [
    {
     "data": {
      "text/plain": [
       "0.835912420134019"
      ]
     },
     "execution_count": 21,
     "metadata": {
      "tags": []
     },
     "output_type": "execute_result"
    }
   ],
   "source": [
    "ada_clf = AdaBoostClassifier(n_estimators=100)\n",
    "scores = cross_val_score(ada_clf, X, y, cv=5)\n",
    "scores.mean()"
   ]
  },
  {
   "cell_type": "code",
   "execution_count": null,
   "metadata": {
    "colab": {
     "base_uri": "https://localhost:8080/"
    },
    "id": "siNFBufxdVWz",
    "outputId": "e893ed0c-e588-4a9a-99b9-a2a7d368bdcb"
   },
   "outputs": [
    {
     "name": "stdout",
     "output_type": "stream",
     "text": [
      "Best: 0.841060 using {'learning_rate': 0.1, 'n_estimators': 500}\n"
     ]
    }
   ],
   "source": [
    "ada_grid = {\"n_estimators\": [10, 50, 100, 500],\n",
    "           \"learning_rate\": [0.0001, 0.001, 0.01, 0.1, 1.0]}\n",
    "\n",
    "cv = RepeatedStratifiedKFold(n_splits=10, n_repeats=3, random_state=42)\n",
    "\n",
    "ada_clf_grid = GridSearchCV(AdaBoostClassifier(), \n",
    "                            param_grid=ada_grid, \n",
    "                            cv=cv, \n",
    "                            scoring='accuracy', \n",
    "                            n_jobs=-1)\n",
    "\n",
    "grid_result = ada_clf_grid.fit(X_train, y_train)\n",
    "print(\"Best: %f using %s\" % (grid_result.best_score_, grid_result.best_params_))"
   ]
  },
  {
   "cell_type": "code",
   "execution_count": null,
   "metadata": {
    "colab": {
     "base_uri": "https://localhost:8080/"
    },
    "id": "fiCLvQD_tVzz",
    "outputId": "b5967091-e81d-4e69-a311-c8fc948492ba"
   },
   "outputs": [
    {
     "name": "stdout",
     "output_type": "stream",
     "text": [
      "Test set accuracy score: 0.839\n"
     ]
    }
   ],
   "source": [
    "# Predict the test set\n",
    "y_pred = ada_clf_grid.predict(X_test)\n",
    "\n",
    "# Compute accuracy score\n",
    "accuracy = accuracy_score(y_test, y_pred)\n",
    "\n",
    "# Print accuracy score\n",
    "print('Test set accuracy score: {:.3f}'.format(accuracy))"
   ]
  },
  {
   "cell_type": "markdown",
   "metadata": {
    "id": "ajRdZFU2Vf4r"
   },
   "source": [
    "### Random Forest Classifier\n"
   ]
  },
  {
   "cell_type": "code",
   "execution_count": null,
   "metadata": {
    "colab": {
     "base_uri": "https://localhost:8080/"
    },
    "id": "iLTBjxBwPnNW",
    "outputId": "f0ced28c-92ce-4ad7-e5df-5e8a0045fa21"
   },
   "outputs": [
    {
     "data": {
      "text/plain": [
       "0.8478453067373124"
      ]
     },
     "execution_count": 23,
     "metadata": {
      "tags": []
     },
     "output_type": "execute_result"
    }
   ],
   "source": [
    "rf_clf = RandomForestClassifier(n_estimators=10, max_depth=None,\n",
    "    min_samples_split=2, random_state=0)\n",
    "scores = cross_val_score(rf_clf, X, y, cv=5)\n",
    "scores.mean()"
   ]
  },
  {
   "cell_type": "code",
   "execution_count": null,
   "metadata": {
    "colab": {
     "base_uri": "https://localhost:8080/"
    },
    "id": "TgkWxbbsQqne",
    "outputId": "8567f9c7-f0ac-4225-bce0-093d889b03af"
   },
   "outputs": [
    {
     "name": "stdout",
     "output_type": "stream",
     "text": [
      "Fitting 5 folds for each of 20 candidates, totalling 100 fits\n"
     ]
    },
    {
     "name": "stderr",
     "output_type": "stream",
     "text": [
      "[Parallel(n_jobs=1)]: Using backend SequentialBackend with 1 concurrent workers.\n",
      "[Parallel(n_jobs=1)]: Done 100 out of 100 | elapsed:  1.6min finished\n"
     ]
    },
    {
     "data": {
      "text/plain": [
       "RandomizedSearchCV(cv=5, error_score=nan,\n",
       "                   estimator=RandomForestClassifier(bootstrap=True,\n",
       "                                                    ccp_alpha=0.0,\n",
       "                                                    class_weight=None,\n",
       "                                                    criterion='gini',\n",
       "                                                    max_depth=None,\n",
       "                                                    max_features='auto',\n",
       "                                                    max_leaf_nodes=None,\n",
       "                                                    max_samples=None,\n",
       "                                                    min_impurity_decrease=0.0,\n",
       "                                                    min_impurity_split=None,\n",
       "                                                    min_samples_leaf=1,\n",
       "                                                    min_samples_split=2,\n",
       "                                                    min_weight_fraction_leaf=0.0,\n",
       "                                                    n_estimators=100,\n",
       "                                                    n_jobs...\n",
       "                   param_distributions={'max_depth': [None, 3, 5, 10],\n",
       "                                        'min_samples_leaf': array([ 1,  3,  5,  7,  9, 11, 13, 15, 17, 19]),\n",
       "                                        'min_samples_split': array([ 2,  4,  6,  8, 10, 12, 14, 16, 18]),\n",
       "                                        'n_estimators': array([ 10,  60, 110, 160, 210, 260, 310, 360, 410, 460, 510, 560, 610,\n",
       "       660, 710, 760, 810, 860, 910, 960])},\n",
       "                   pre_dispatch='2*n_jobs', random_state=None, refit=True,\n",
       "                   return_train_score=False, scoring=None, verbose=True)"
      ]
     },
     "execution_count": 24,
     "metadata": {
      "tags": []
     },
     "output_type": "execute_result"
    }
   ],
   "source": [
    "## Randomized Search CV - RandomForestClassifier()\n",
    "# Setup random seed\n",
    "np.random.seed(42)\n",
    "\n",
    "rf_grid = {\"n_estimators\": np.arange(10, 1000, 50),\n",
    "           \"max_depth\": [None, 3, 5, 10],\n",
    "           \"min_samples_split\": np.arange(2, 20, 2),\n",
    "           \"min_samples_leaf\": np.arange(1, 20, 2)}\n",
    "\n",
    "# Setup random hyperparameter search for RandomForestClassifier\n",
    "rs_rf = RandomizedSearchCV(RandomForestClassifier(),\n",
    "                           param_distributions=rf_grid,\n",
    "                           cv=5,\n",
    "                           n_iter=20,\n",
    "                           verbose=True)\n",
    "\n",
    "# Fit random hyperparameter search model\n",
    "rs_rf.fit(X_train, y_train)"
   ]
  },
  {
   "cell_type": "code",
   "execution_count": null,
   "metadata": {
    "colab": {
     "base_uri": "https://localhost:8080/"
    },
    "id": "NNqTx_JdQ0ul",
    "outputId": "b5f412a4-9dc2-4829-f590-76f94599d830"
   },
   "outputs": [
    {
     "data": {
      "text/plain": [
       "0.8518518518518519"
      ]
     },
     "execution_count": 25,
     "metadata": {
      "tags": []
     },
     "output_type": "execute_result"
    }
   ],
   "source": [
    "rs_rf.score(X_test, y_test)"
   ]
  },
  {
   "cell_type": "code",
   "execution_count": null,
   "metadata": {
    "colab": {
     "base_uri": "https://localhost:8080/"
    },
    "id": "qG1WGBS0iNGc",
    "outputId": "332efea7-86df-4034-a79e-abb82a0a1487"
   },
   "outputs": [
    {
     "name": "stdout",
     "output_type": "stream",
     "text": [
      "Best: 0.845215 using {'n_estimators': 510, 'min_samples_split': 14, 'min_samples_leaf': 1, 'max_depth': None}\n"
     ]
    }
   ],
   "source": [
    "print(\"Best: %f using %s\" % (rs_rf.best_score_, rs_rf.best_params_))"
   ]
  },
  {
   "cell_type": "code",
   "execution_count": null,
   "metadata": {
    "colab": {
     "base_uri": "https://localhost:8080/"
    },
    "id": "Y0OlJA32tQ8J",
    "outputId": "da96e5ad-8bfd-414d-b36d-0bf4a13c9458"
   },
   "outputs": [
    {
     "name": "stdout",
     "output_type": "stream",
     "text": [
      "Test set accuracy score: 0.852\n"
     ]
    }
   ],
   "source": [
    "# Predict the test set\n",
    "y_pred = rs_rf.predict(X_test)\n",
    "\n",
    "# Compute accuracy score\n",
    "accuracy = accuracy_score(y_test, y_pred)\n",
    "\n",
    "# Print accuracy score\n",
    "print('Test set accuracy score: {:.3f}'.format(accuracy))"
   ]
  },
  {
   "cell_type": "markdown",
   "metadata": {
    "id": "U4BnZV1NT7kv"
   },
   "source": [
    "### Gradient Boosting Classifier"
   ]
  },
  {
   "cell_type": "code",
   "execution_count": null,
   "metadata": {
    "id": "7wbdojokQ1AA"
   },
   "outputs": [],
   "source": [
    "GBC = GradientBoostingClassifier()\n",
    "\n",
    "params_gbc = {\n",
    "    'max_depth': [2,3,4],\n",
    "    'n_estimators': [15, 25, 50, 100, 200, 400],\n",
    "    'max_features': ['log2','auto','sqrt'],\n",
    "    'min_samples_leaf': [2,10,30]\n",
    "}\n",
    "\n",
    "grid_gbc = GridSearchCV(estimator=GBC,\n",
    "                       param_grid=params_gbc,\n",
    "                       scoring='accuracy',\n",
    "                       cv=5,\n",
    "                       n_jobs=-1)"
   ]
  },
  {
   "cell_type": "code",
   "execution_count": null,
   "metadata": {
    "colab": {
     "base_uri": "https://localhost:8080/"
    },
    "id": "pWw8EXgXQ25m",
    "outputId": "bccf5ded-0d2e-4d1c-c0d1-557cac5cec67"
   },
   "outputs": [
    {
     "data": {
      "text/plain": [
       "GridSearchCV(cv=5, error_score=nan,\n",
       "             estimator=GradientBoostingClassifier(ccp_alpha=0.0,\n",
       "                                                  criterion='friedman_mse',\n",
       "                                                  init=None, learning_rate=0.1,\n",
       "                                                  loss='deviance', max_depth=3,\n",
       "                                                  max_features=None,\n",
       "                                                  max_leaf_nodes=None,\n",
       "                                                  min_impurity_decrease=0.0,\n",
       "                                                  min_impurity_split=None,\n",
       "                                                  min_samples_leaf=1,\n",
       "                                                  min_samples_split=2,\n",
       "                                                  min_weight_fraction_leaf=0.0,\n",
       "                                                  n_estimators=100,\n",
       "                                                  n_iter_no_c...\n",
       "                                                  presort='deprecated',\n",
       "                                                  random_state=None,\n",
       "                                                  subsample=1.0, tol=0.0001,\n",
       "                                                  validation_fraction=0.1,\n",
       "                                                  verbose=0, warm_start=False),\n",
       "             iid='deprecated', n_jobs=-1,\n",
       "             param_grid={'max_depth': [2, 3, 4],\n",
       "                         'max_features': ['log2', 'auto', 'sqrt'],\n",
       "                         'min_samples_leaf': [2, 10, 30],\n",
       "                         'n_estimators': [15, 25, 50, 100, 200, 400]},\n",
       "             pre_dispatch='2*n_jobs', refit=True, return_train_score=False,\n",
       "             scoring='accuracy', verbose=0)"
      ]
     },
     "execution_count": 28,
     "metadata": {
      "tags": []
     },
     "output_type": "execute_result"
    }
   ],
   "source": [
    "grid_gbc.fit(X_train, y_train)"
   ]
  },
  {
   "cell_type": "code",
   "execution_count": null,
   "metadata": {
    "colab": {
     "base_uri": "https://localhost:8080/"
    },
    "id": "m_eGQyi_ipKR",
    "outputId": "96eafc5f-f6c7-4582-b576-6132606fee04"
   },
   "outputs": [
    {
     "name": "stdout",
     "output_type": "stream",
     "text": [
      "Best: 0.856100 using {'max_depth': 4, 'max_features': 'auto', 'min_samples_leaf': 2, 'n_estimators': 200}\n"
     ]
    }
   ],
   "source": [
    "print(\"Best: %f using %s\" % (grid_gbc.best_score_, grid_gbc.best_params_))"
   ]
  },
  {
   "cell_type": "code",
   "execution_count": null,
   "metadata": {
    "colab": {
     "base_uri": "https://localhost:8080/"
    },
    "id": "0se4Olx6Q3jx",
    "outputId": "af7297c1-3266-4666-bcc7-2f91e66e3d2d"
   },
   "outputs": [
    {
     "name": "stdout",
     "output_type": "stream",
     "text": [
      "GradientBoostingClassifier(ccp_alpha=0.0, criterion='friedman_mse', init=None,\n",
      "                           learning_rate=0.1, loss='deviance', max_depth=4,\n",
      "                           max_features='auto', max_leaf_nodes=None,\n",
      "                           min_impurity_decrease=0.0, min_impurity_split=None,\n",
      "                           min_samples_leaf=2, min_samples_split=2,\n",
      "                           min_weight_fraction_leaf=0.0, n_estimators=200,\n",
      "                           n_iter_no_change=None, presort='deprecated',\n",
      "                           random_state=None, subsample=1.0, tol=0.0001,\n",
      "                           validation_fraction=0.1, verbose=0,\n",
      "                           warm_start=False)\n",
      "Test set accuracy score: 0.873\n"
     ]
    }
   ],
   "source": [
    "# Extract the best estimator\n",
    "best_model = grid_gbc.best_estimator_\n",
    "print(best_model)\n",
    "\n",
    "# Predict the test set\n",
    "y_pred = grid_gbc.predict(X_test)\n",
    "\n",
    "# Compute accuracy score\n",
    "accuracy = accuracy_score(y_test, y_pred)\n",
    "\n",
    "# Print accuracy score\n",
    "print('Test set accuracy score: {:.3f}'.format(accuracy))"
   ]
  },
  {
   "cell_type": "markdown",
   "metadata": {
    "id": "xFhh5wsLUEDK"
   },
   "source": [
    "### XGBoost"
   ]
  },
  {
   "cell_type": "code",
   "execution_count": null,
   "metadata": {
    "colab": {
     "base_uri": "https://localhost:8080/"
    },
    "id": "MSUtw465Sh1T",
    "outputId": "1d8a41d6-0428-41fb-b4e3-ec00b2495df7"
   },
   "outputs": [
    {
     "data": {
      "text/plain": [
       "XGBClassifier(base_score=0.5, booster='gbtree', colsample_bylevel=1,\n",
       "              colsample_bynode=1, colsample_bytree=1, gamma=0,\n",
       "              learning_rate=0.1, max_delta_step=0, max_depth=3,\n",
       "              min_child_weight=1, missing=None, n_estimators=100, n_jobs=1,\n",
       "              nthread=None, objective='binary:logistic', random_state=0,\n",
       "              reg_alpha=0, reg_lambda=1, scale_pos_weight=1, seed=None,\n",
       "              silent=None, subsample=1, verbosity=1)"
      ]
     },
     "execution_count": 31,
     "metadata": {
      "tags": []
     },
     "output_type": "execute_result"
    }
   ],
   "source": [
    "xgb = XGBClassifier()\n",
    "xgb.fit(X_train, y_train)"
   ]
  },
  {
   "cell_type": "code",
   "execution_count": null,
   "metadata": {
    "colab": {
     "base_uri": "https://localhost:8080/"
    },
    "id": "rJ6igWrpShza",
    "outputId": "9e0fc238-8a65-4ce1-dfea-b996f5fed1df"
   },
   "outputs": [
    {
     "data": {
      "text/plain": [
       "0.8470209339774557"
      ]
     },
     "execution_count": 32,
     "metadata": {
      "tags": []
     },
     "output_type": "execute_result"
    }
   ],
   "source": [
    "xgb.score(X_test, y_test)"
   ]
  },
  {
   "cell_type": "code",
   "execution_count": null,
   "metadata": {
    "id": "bTOtUC0pjsUe"
   },
   "outputs": [],
   "source": [
    "params_xgb = {\n",
    "    'max_depth': np.arange(1, 11, 1),\n",
    "    'n_estimators': [15, 25, 50, 100, 200, 400],\n",
    "    'max_features': ['log2','auto','sqrt'],\n",
    "    'min_samples_leaf': [2,10,30],\n",
    "    'learning_rate': [0.001, 0.01, 0.1, 1.0],\n",
    "    'sub_sample': np.arange(0.1, 1.1, 0.1),\n",
    "    'colsample_bytree': np.arange(0.1, 1.1, 0.1)\n",
    "}"
   ]
  },
  {
   "cell_type": "code",
   "execution_count": null,
   "metadata": {
    "id": "8RKkchvEkLjw"
   },
   "outputs": [],
   "source": [
    "cv = RepeatedStratifiedKFold(n_splits=10, n_repeats=3, random_state=42)"
   ]
  },
  {
   "cell_type": "code",
   "execution_count": null,
   "metadata": {
    "colab": {
     "base_uri": "https://localhost:8080/"
    },
    "id": "NuVQ3DPBkLhM",
    "outputId": "e626bac9-1e0d-48cb-dc84-f7d214ac0529"
   },
   "outputs": [
    {
     "name": "stdout",
     "output_type": "stream",
     "text": [
      "Fitting 30 folds for each of 20 candidates, totalling 600 fits\n"
     ]
    },
    {
     "name": "stderr",
     "output_type": "stream",
     "text": [
      "[Parallel(n_jobs=1)]: Using backend SequentialBackend with 1 concurrent workers.\n",
      "[Parallel(n_jobs=1)]: Done 600 out of 600 | elapsed:  2.7min finished\n"
     ]
    },
    {
     "data": {
      "text/plain": [
       "RandomizedSearchCV(cv=RepeatedStratifiedKFold(n_repeats=3, n_splits=10, random_state=42),\n",
       "                   error_score=nan,\n",
       "                   estimator=XGBClassifier(base_score=0.5, booster='gbtree',\n",
       "                                           colsample_bylevel=1,\n",
       "                                           colsample_bynode=1,\n",
       "                                           colsample_bytree=1, gamma=0,\n",
       "                                           learning_rate=0.1, max_delta_step=0,\n",
       "                                           max_depth=3, min_child_weight=1,\n",
       "                                           missing=None, n_estimators=100,\n",
       "                                           n_jobs=1, nthread=None,\n",
       "                                           objecti...\n",
       "                                        'learning_rate': [0.001, 0.01, 0.1,\n",
       "                                                          1.0],\n",
       "                                        'max_depth': array([ 1,  2,  3,  4,  5,  6,  7,  8,  9, 10]),\n",
       "                                        'max_features': ['log2', 'auto',\n",
       "                                                         'sqrt'],\n",
       "                                        'min_samples_leaf': [2, 10, 30],\n",
       "                                        'n_estimators': [15, 25, 50, 100, 200,\n",
       "                                                         400],\n",
       "                                        'sub_sample': array([0.1, 0.2, 0.3, 0.4, 0.5, 0.6, 0.7, 0.8, 0.9, 1. ])},\n",
       "                   pre_dispatch='2*n_jobs', random_state=None, refit=True,\n",
       "                   return_train_score=False, scoring=None, verbose=True)"
      ]
     },
     "execution_count": 37,
     "metadata": {
      "tags": []
     },
     "output_type": "execute_result"
    }
   ],
   "source": [
    "rs_xgb = RandomizedSearchCV(XGBClassifier(),\n",
    "                           param_distributions=params_xgb,\n",
    "                           cv=cv,\n",
    "                           n_iter=20,\n",
    "                           verbose=True)\n",
    "rs_xgb.fit(X_train, y_train)"
   ]
  },
  {
   "cell_type": "code",
   "execution_count": null,
   "metadata": {
    "colab": {
     "base_uri": "https://localhost:8080/"
    },
    "id": "lqfyPvAcShuw",
    "outputId": "39a9acb0-933b-44ac-9ecc-e71b60d18381"
   },
   "outputs": [
    {
     "name": "stdout",
     "output_type": "stream",
     "text": [
      "Fitting 30 folds for each of 20 candidates, totalling 600 fits\n"
     ]
    },
    {
     "name": "stderr",
     "output_type": "stream",
     "text": [
      "[Parallel(n_jobs=1)]: Using backend SequentialBackend with 1 concurrent workers.\n",
      "[Parallel(n_jobs=1)]: Done 600 out of 600 | elapsed:  3.5min finished\n"
     ]
    },
    {
     "name": "stdout",
     "output_type": "stream",
     "text": [
      "Best: 0.853958 using {'sub_sample': 0.4, 'n_estimators': 100, 'min_samples_leaf': 2, 'max_features': 'log2', 'max_depth': 6, 'learning_rate': 0.1, 'colsample_bytree': 0.7000000000000001}\n"
     ]
    }
   ],
   "source": [
    "rs_xgb.fit(X_train, y_train)\n",
    "print(\"Best: %f using %s\" % (rs_xgb.best_score_, rs_xgb.best_params_))"
   ]
  },
  {
   "cell_type": "code",
   "execution_count": null,
   "metadata": {
    "colab": {
     "base_uri": "https://localhost:8080/"
    },
    "id": "-j0IROvGvEOf",
    "outputId": "dd865a0f-f8a4-4408-a821-469fe30ee7a3"
   },
   "outputs": [
    {
     "name": "stdout",
     "output_type": "stream",
     "text": [
      "Test set accuracy score: 0.862\n"
     ]
    }
   ],
   "source": [
    "# Predict the test set\n",
    "y_pred = rs_xgb.predict(X_test)\n",
    "\n",
    "# Compute accuracy score\n",
    "accuracy = accuracy_score(y_test, y_pred)\n",
    "\n",
    "# Print accuracy score\n",
    "print('Test set accuracy score: {:.3f}'.format(accuracy))"
   ]
  },
  {
   "cell_type": "code",
   "execution_count": null,
   "metadata": {
    "id": "VWYHjURyoiDh"
   },
   "outputs": [],
   "source": [
    "# test = sc.fit_transform(test)"
   ]
  },
  {
   "cell_type": "code",
   "execution_count": null,
   "metadata": {
    "id": "fgN78PnkoAlW"
   },
   "outputs": [],
   "source": [
    "target = grid_gbc.predict(test)\n"
   ]
  },
  {
   "cell_type": "code",
   "execution_count": null,
   "metadata": {
    "colab": {
     "base_uri": "https://localhost:8080/",
     "height": 17
    },
    "id": "s-B9G9ipn8AX",
    "outputId": "fccef851-4f32-4ccf-f69d-5b43e2fdaa1e"
   },
   "outputs": [
    {
     "data": {
      "application/javascript": [
       "\n",
       "    async function download(id, filename, size) {\n",
       "      if (!google.colab.kernel.accessAllowed) {\n",
       "        return;\n",
       "      }\n",
       "      const div = document.createElement('div');\n",
       "      const label = document.createElement('label');\n",
       "      label.textContent = `Downloading \"${filename}\": `;\n",
       "      div.appendChild(label);\n",
       "      const progress = document.createElement('progress');\n",
       "      progress.max = size;\n",
       "      div.appendChild(progress);\n",
       "      document.body.appendChild(div);\n",
       "\n",
       "      const buffers = [];\n",
       "      let downloaded = 0;\n",
       "\n",
       "      const channel = await google.colab.kernel.comms.open(id);\n",
       "      // Send a message to notify the kernel that we're ready.\n",
       "      channel.send({})\n",
       "\n",
       "      for await (const message of channel.messages) {\n",
       "        // Send a message to notify the kernel that we're ready.\n",
       "        channel.send({})\n",
       "        if (message.buffers) {\n",
       "          for (const buffer of message.buffers) {\n",
       "            buffers.push(buffer);\n",
       "            downloaded += buffer.byteLength;\n",
       "            progress.value = downloaded;\n",
       "          }\n",
       "        }\n",
       "      }\n",
       "      const blob = new Blob(buffers, {type: 'application/binary'});\n",
       "      const a = document.createElement('a');\n",
       "      a.href = window.URL.createObjectURL(blob);\n",
       "      a.download = filename;\n",
       "      div.appendChild(a);\n",
       "      a.click();\n",
       "      div.remove();\n",
       "    }\n",
       "  "
      ],
      "text/plain": [
       "<IPython.core.display.Javascript object>"
      ]
     },
     "metadata": {
      "tags": []
     },
     "output_type": "display_data"
    },
    {
     "data": {
      "application/javascript": [
       "download(\"download_d8156d09-c6d8-4cdc-bedf-ad44a9066469\", \"prediction_results.csv\", 5512)"
      ],
      "text/plain": [
       "<IPython.core.display.Javascript object>"
      ]
     },
     "metadata": {
      "tags": []
     },
     "output_type": "display_data"
    }
   ],
   "source": [
    "prediction = pd.DataFrame(target)\n",
    "prediction.columns = [\"prediction\"]\n",
    "\n",
    "# To download the csv file locally\n",
    "from google.colab import files\n",
    "prediction.to_csv('prediction_results.csv')         \n",
    "files.download('prediction_results.csv')"
   ]
  },
  {
   "cell_type": "code",
   "execution_count": null,
   "metadata": {
    "id": "uN5CLs_Doq1s"
   },
   "outputs": [],
   "source": []
  }
 ],
 "metadata": {
  "accelerator": "GPU",
  "colab": {
   "collapsed_sections": [
    "4XBjFKeeXLEg",
    "wvUAzhg-Qj0s",
    "ajRdZFU2Vf4r"
   ],
   "name": "Car Insurance.ipynb",
   "provenance": []
  },
  "kernelspec": {
   "display_name": "Python 3",
   "language": "python",
   "name": "python3"
  },
  "language_info": {
   "codemirror_mode": {
    "name": "ipython",
    "version": 3
   },
   "file_extension": ".py",
   "mimetype": "text/x-python",
   "name": "python",
   "nbconvert_exporter": "python",
   "pygments_lexer": "ipython3",
   "version": "3.8.2"
  }
 },
 "nbformat": 4,
 "nbformat_minor": 1
}
